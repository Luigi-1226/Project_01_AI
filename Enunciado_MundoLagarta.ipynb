{
 "cells": [
  {
   "cell_type": "markdown",
   "id": "be03c273-3f7b-460a-b105-e893ba30b8be",
   "metadata": {},
   "source": [
    "# Introdução à Inteligência Artificial 2025/2026\n",
    "\n",
    "## Projeto 1: O Mundo da Lagarta\n",
    "\n",
    "### Entrega: 3 de Outubro às 23:59"
   ]
  },
  {
   "cell_type": "markdown",
   "id": "be5f1e4c",
   "metadata": {},
   "source": [
    "<left> <img src=\"figures/lagarta_imagens_easy.png\" width=\"900\" /> </center>"
   ]
  },
  {
   "cell_type": "markdown",
   "id": "1aff2972-7118-4e2e-bfb1-b573a1a473c6",
   "metadata": {
    "jp-MarkdownHeadingCollapsed": true
   },
   "source": [
    "## Introdução\n",
    "\n",
    "Considere o jogo da lagarta, que decorre num mundo simples onde existem apenas paredes e uma maçã, para além da própria lagarta. As paredes rodeiam completamente o mundo (que pode ser quadrado ou retangular) e podem existir também no seu interior. A maçã pode estar num sítio qualquer, apoiada ou a levitar, mas a lagarta está sujeita à força de gravidade: consegue rastejar para o lado quando está apoiada; consegue levantar a cabeça até um certo nível de esforço; se não estiver apoiada, só consegue mover-se para baixo. A cada movimento que faz, a lagarta cresce (a cabeça move-se mas fica corpo onde estava a cabeça) e o seu próprio corpo pode servir de apoio, tal como as paredes. O objetivo é fazer a lagarta chegar à maçã no menor número de movimentos. Neste projeto queremos fazer **apenas a formulação** do problema."
   ]
  },
  {
   "cell_type": "markdown",
   "id": "6989c959-a01a-4d10-b184-381d6d3e505e",
   "metadata": {},
   "source": [
    "## Representação do Mundo da Lagarta\n",
    "\n",
    "Considere que cada célula do mundo é dada por um par de coordenadas $(x,y)$, onde **a célula em baixo à esquerda é a célula $(0,0)$** e **a célula no topo à direita é $(M-1,N-1)$**, com $M$ o número de colunas e $N$ o número de linhas do mundo.\n",
    "\n",
    "Na representação do Mundo da Lagarta considera-se que:\n",
    "* as paredes são representadas pelo símbolo \"=\"\n",
    "* a maçã é representada pelo símbolo \"x\"\n",
    "* as casas livres são representadas por \".\"\n",
    "* a cabeça da lagarta é representada por \"@\" e o corpo por \"o\""
   ]
  },
  {
   "cell_type": "markdown",
   "id": "fbf8efea-a3cf-4863-bacc-40fa93c16b6b",
   "metadata": {},
   "source": [
    "Abaixo apresenta-se uma visualização, utilizando os símbolos descritos acima, de um mundo de dimensão 19x8 (o mesmo da primeira figura deste enunciado, imagem central), onde a cabeça da lagarta está na célula (11,3) e a maçã está na célula (16,1). No que se segue do enunciado, para simplificar, \"posição da lagarta\" significa a posição da sua cabeça.\n",
    "\n",
    "```\n",
    "= = = = = = = = = = = = = = = = = = =\n",
    "= . . . . . . . . . . . . . . . . . =\n",
    "= . . . . . . . . . . . . . . . . . =\n",
    "= . . . . . . . . . . . . = . . . . =\n",
    "= . . . . . . o o o . @ . = . . . . =\n",
    "= . . . . . . o = o . o = = . . . . =\n",
    "= . . o o o o o = o o o = = . . x . =\n",
    "= = = = = = = = = = = = = = = = = = =\n",
    "```"
   ]
  },
  {
   "cell_type": "markdown",
   "id": "5410e74e-d480-45b4-9797-925c24ebbda7",
   "metadata": {},
   "source": [
    "## Objetivo do Projeto\n",
    "\n",
    "Formular este problema como um problema de procura no Espaço de Estados, usando a implementação disponibilizada pelo módulo `searchPlus.py` que é fornecido juntamente com este enunciado, assim como `utils.py`. O estado deve ser mínimo, contendo apenas os elementos que mudam com as ações.\n",
    "\n",
    "Assim, os alunos terão de completar a classe `MundoLagarta`:\n",
    "\n",
    "```python\n",
    "from searchPlus import *\n",
    "\n",
    "# predefinição de um mundo inicial simples:\n",
    "line1 = \"= = = = = = =\\n\"\n",
    "line2 = \"= x . . . . =\\n\"\n",
    "line3 = \"= . . . = . =\\n\"\n",
    "line4 = \"= . . . = . =\\n\"\n",
    "line5 = \"= = = . = . =\\n\"\n",
    "line6 = \"= @ . . . . =\\n\"\n",
    "line7 = \"= = = = = = =\\n\"\n",
    "grid = line1 + line2 + line3 + line4 + line5 + line6 + line7\n",
    "\n",
    "class MundoLagarta(Problem):\n",
    "\n",
    "    def __init__(self, mundo=grid):\n",
    "        pass\n",
    "\n",
    "    def actions (self, state):\n",
    "        pass\n",
    "\n",
    "    def result (self, state, action):\n",
    "        pass\n",
    "\n",
    "    def goal_test (self, state):\n",
    "        pass\n",
    "\n",
    "    def display (self, state):\n",
    "        pass\n",
    "\n",
    "    def executa(self, state, actions_list, verbose=False):\n",
    "        \"\"\"Executa uma sequência de ações a partir do estado, devolvendo o triplo formado pelo estado \n",
    "        final, o custo acumulado e o booleano que indica se o objectivo foi ou não atingido. Se o\n",
    "        objectivo for atingido antes da sequência ser toda executada, devolve-se o estado e o custo\n",
    "        corrente. Há o modo verboso e o não verboso, este último selecionado por defeito.\"\"\"\n",
    "        cost = 0\n",
    "        for a in actions_list:\n",
    "            seg = self.result(state,a)\n",
    "            cost = self.path_cost(cost,state,a,seg)\n",
    "            state = seg\n",
    "            obj = self.goal_test(state)\n",
    "            if verbose:\n",
    "                print('Ação:', a)\n",
    "                print(self.display(state),end='')\n",
    "                print('Custo Total:',cost)\n",
    "                print('Atingido o objetivo?', obj)\n",
    "                print()\n",
    "            if obj:\n",
    "                break\n",
    "        return (state, cost, obj)\n",
    "```"
   ]
  },
  {
   "cell_type": "markdown",
   "id": "dfd87fe8-1b00-4920-b89d-97577984397a",
   "metadata": {},
   "source": [
    "#### O construtor de `MundoLagarta`\n",
    "\n",
    "O construtor da classe a desenvolver recebe como input a informação em texto (como exemplificado acima) referente ao mundo inicial, onde as suas dimensões, localização das paredes, da maçã e da lagarta são dados de forma implícita. Será necessário extrair essas informações explicitamente. Repare-se que, no mundo inicial, a lagarta pode ter apenas cabeça e nenhum corpo."
   ]
  },
  {
   "attachments": {},
   "cell_type": "markdown",
   "id": "81e3532b-46f1-40bc-a258-d29cba1a6456",
   "metadata": {},
   "source": [
    "#### O método `actions`\n",
    "\n",
    "As ações correspondem às direções em que a lagarta se pode movimentar, e são quatro: Esquerda, Direita, Cima e Baixo, identificadas pelos símbolos \"E\", \"D\", \"C\" e \"B\", respetivamente. Cada movimento leva a uma casa/célula imediatamente adjacente, na ortogonal (não há movimentos na diagonal). Nem todas estas ações são possíveis em todas as situações:\n",
    "\n",
    "* a lagarta só pode mover-se para casas livres (não pode atravessar paredes nem o seu próprio corpo) ou para a casa onde está a maçã;\n",
    "* se a cabeça da lagarta não estiver apoiada (a célula imediatamente abaixo está livre) a única ação possível é para baixo (B);\n",
    "* a ação de levantar a cabeça para cima (C) só é possível se o nível máximo de esforço ainda não tiver sido atingido (nível máximo = 3);\n",
    "* se a lagarta estiver em esforço (nível de esforço > 0) só pode ir para a direita (D) ou esquerda (E) se isso a colocar numa casa com apoio;\n",
    "* (uma casa com apoio é uma casa imediatamente acima de uma parede ou do corpo da lagarta).\n",
    "\n",
    "Note-se que o objetivo é que a lagarta chegue à maçã. Se a lagarta se movimentar de forma a ficar sem ações possíveis, o objetivo do jogo não é atingido. A lista de ações possíveis devolvidas por este método deverá estar **ordenada por ordem alfabética das ações**."
   ]
  },
  {
   "attachments": {},
   "cell_type": "markdown",
   "id": "803a4870-3f63-4a00-8076-4bf2a2a156c3",
   "metadata": {},
   "source": [
    "##### Exemplos\n",
    "\n",
    "**1)** Para o exemplo do mundo simples predefinido acima, a lista de ações do estado inicial é obtido por\n",
    "```python\n",
    "p = MundoLagarta()\n",
    "print(p.actions(p.initial))\n",
    "```\n",
    "gerando o output\n",
    "```python\n",
    "['D']\n",
    "```\n",
    "\n",
    "**2)** Se o mundo inicial for este:\n",
    "```python\n",
    "line1 = \"= = = = = = = = = = = = = = = = = = =\\n\"\n",
    "line2 = \"= . . . . . . . . . . . . . . . . . =\\n\"\n",
    "line3 = \"= . . . . . . o @ . . . . . . . . . =\\n\"\n",
    "line4 = \"= . . . . o o o = . . . . = . . . . =\\n\"\n",
    "line5 = \"= . . . . o = = = . . . . = . . . . =\\n\"\n",
    "line6 = \"= . . . . o o o = . . . = = . . . . =\\n\"\n",
    "line7 = \"= o o o o o o o = . . . = = . . x . =\\n\"\n",
    "line8 = \"= = = = = = = = = = = = = = = = = = =\\n\"\n",
    "grid2 = line1 + line2 + line3 + line4 + line5 + line6 + line7 + line8\n",
    "```\n",
    "a lista de ações do estado inicial é obtido por\n",
    "```python\n",
    "p = MundoLagarta(grid2)\n",
    "print(p.actions(p.initial))\n",
    "```\n",
    "gerando o output\n",
    "```python\n",
    "['C', 'D']\n",
    "```"
   ]
  },
  {
   "cell_type": "markdown",
   "id": "2f67cf6b-b7d4-438e-bcd4-9faf63a2879c",
   "metadata": {},
   "source": [
    "**3)** E se for este:\n",
    "\n",
    "```python\n",
    "line1 = \"= = = = = = = = = = = = = = = = = = =\\n\"\n",
    "line2 = \"= . . . . . . . . . . . . . . . . . =\\n\"\n",
    "line3 = \"= . . . . . . o o @ . . . . . . . . =\\n\"\n",
    "line4 = \"= . . . . o o o = . . . . = . . . . =\\n\"\n",
    "line5 = \"= . . . . o = = = . . . . = . . . . =\\n\"\n",
    "line6 = \"= . . . . o o o = . . . = = . . . . =\\n\"\n",
    "line7 = \"= o o o o o o o = . . . = = . . x . =\\n\"\n",
    "line8 = \"= = = = = = = = = = = = = = = = = = =\\n\"\n",
    "grid3 = line1 + line2 + line3 + line4 + line5 + line6 + line7 + line8\n",
    "```\n",
    "a única ação possível é...\n",
    "```python\n",
    "p = MundoLagarta(grid3)\n",
    "print(p.actions(p.initial))\n",
    "```\n",
    "...ir para baixo\n",
    "```python\n",
    "['B']\n",
    "```\n",
    "\n",
    "Repare-se que, apesar da força de gravidade, a ação de ir para baixo vai colocar a lagarta na casa imediatamente abaixo de onde está (não cai logo até ao fundo), que neste exemplo seria a casa (9,4)."
   ]
  },
  {
   "cell_type": "markdown",
   "id": "ed806aea-f859-4c85-8e8f-7ba6849df7e2",
   "metadata": {},
   "source": [
    "**4)** Como último exemplo, temos esta situação:\n",
    "```python\n",
    "line1 = \"= = = = = = =\\n\"\n",
    "line2 = \"= . . . . . =\\n\"\n",
    "line3 = \"= . x @ . . =\\n\"\n",
    "line4 = \"= . . o . . =\\n\"\n",
    "line5 = \"= . . o . . =\\n\"\n",
    "line6 = \"= . . o o o =\\n\"\n",
    "line7 = \"= = = = = = =\\n\"\n",
    "grid4 = line1 + line2 + line3 + line4 + line5 + line6 + line7\n",
    "```\n",
    "em que a lagarta está em esforço máximo (porque foi para cima 3 vezes consecutivas) e assim a lista de ações é...\n",
    "```python\n",
    "p = MundoLagarta(grid4)\n",
    "print(p.actions(p.initial))\n",
    "```\n",
    "...vazia\n",
    "```python\n",
    "[]\n",
    "```\n"
   ]
  },
  {
   "cell_type": "markdown",
   "id": "09e7b8ab-1eb0-46ce-98fc-cf4e11a04798",
   "metadata": {},
   "source": [
    "<left> <img src=\"figures/lagarta_imagem_corpo.png\" width=\"600\" /> </center>"
   ]
  },
  {
   "attachments": {},
   "cell_type": "markdown",
   "id": "35a24f09-2dc1-47c0-9a43-f07375002888",
   "metadata": {},
   "source": [
    "#### O método `goal_test`\n",
    "\n",
    "Chega-se ao objetivo quando a cabeça da lagarta está na mesma casa que a maçã."
   ]
  },
  {
   "attachments": {},
   "cell_type": "markdown",
   "id": "70ecb549-83ff-4d49-a09a-590452727d91",
   "metadata": {},
   "source": [
    "#### O método `result`\n",
    "\n",
    "Repare-se que, se um estado $s$ for argumento do método `result`, ele deve permanecer exatamente igual, não sendo modificado pelo método. Deve ser gerado um novo estado $s´$ e não alterar o estado $s$. Note-se que o teste de validade das ações deve ser feito no método `actions`, sendo ineficiente e redundante repeti-lo no método `result`.\n",
    "\n",
    "Quando se aplica uma ação a um determinado estado, i.e., quando a lagarta se move numa direção, as seguintes situações podem ocorrer:\n",
    "\n",
    "- a lagarta aumenta o seu nível de esforço (em 1 unidade), caso a ação seja ir para cima\n",
    "- a lagarta mantém ou passa a esforço zero, caso contrário\n",
    "\n",
    "Em qualquer das situações, a cabeça da lagarta muda para a nova posição, e a posição onde estava a cabeça fica com corpo."
   ]
  },
  {
   "cell_type": "markdown",
   "id": "d0ef8386-b9f8-4f4e-ac2b-149e92f5db13",
   "metadata": {},
   "source": [
    "#### Igualdade entre estados\n",
    "\n",
    "É importante que dois estados exatamente com os mesmos valores nos seus atributos sejam considerados iguais mesmo que sejam objetos distintos!"
   ]
  },
  {
   "cell_type": "markdown",
   "id": "e2a85ed9-ba9c-4b05-b34b-f7f883da9212",
   "metadata": {},
   "source": [
    "#### Sem programação defensiva\n",
    "\n",
    "Os alunos apenas precisam de ter em consideração situações iniciais de mundos que sejam válidos: mundos quadrados ou retangulares onde não há símbolos desconhecidos e há sempre uma lagarta (com ou sem corpo) e uma maçã. O principal objetivo desta avaliação é a formulação do problema num espaço de estados. Desenvolva o código assumindo que o input do construtor da classe `MundoLagarta` é sempre válido."
   ]
  },
  {
   "cell_type": "markdown",
   "id": "f406f4a5-040f-4771-a9c1-38e53f02f3e4",
   "metadata": {},
   "source": [
    "#### Sobre o nível de esforço\n",
    "\n",
    "A lagarta começa com esforço 0. O nível de esforço aumenta 1 unidade de cada vez que a lagarta se movimenta para cima (independentemente das paredes que possa ou não ter ao seu lado). O nível de esforço só volta a ser 0 se a lagarta se movimentar para uma casa com apoio. Se a lagarta não estava em esforço e se movimenta para uma casa sem apoio (mas não para cima) o nível de esforço não aumenta."
   ]
  },
  {
   "cell_type": "markdown",
   "id": "9614f1e4-48df-433d-9d48-9b1e693bf408",
   "metadata": {},
   "source": [
    "#### Sobre as casas com apoio\n",
    "\n",
    "Casas com apoio são aquelas que ficam imediatamente acima de uma parede ou do corpo da lagarta, mas com uma exceção: quando a lagarta está em esforço (tem a cabeça levantada porque se movimentou para cima) não se considera que esteja numa casa com apoio, apesar de obviamente ter a cabeça apoiada no corpo."
   ]
  },
  {
   "cell_type": "markdown",
   "id": "f0cd37a6-999b-4dbe-8cb9-2f2c796b13b9",
   "metadata": {},
   "source": [
    "#### O método `display`\n",
    "\n",
    "A função `display` pega no estado e faz a visualização do mundo em modo texto, respeitando o formato usado no input do construtor. Um exemplo da sua aplicação para o mundo simples definido anteriormente\n",
    "```python\n",
    "p = MundoLagarta()\n",
    "print(p.display(p.initial))\n",
    "```\n",
    "gera o seguinte output\n",
    "```\n",
    "= = = = = = =\n",
    "= x . . . . =\n",
    "= . . . = . =\n",
    "= . . . = . =\n",
    "= = = . = . =\n",
    "= @ . . . . =\n",
    "= = = = = = =\n",
    "```\n",
    "\n",
    "Quando a cabeça da lagarta está na mesma casa que a maçã (quando se chega ao objetivo), a casa deve mostrar a cabeça da lagarta e não a maçã."
   ]
  },
  {
   "cell_type": "markdown",
   "id": "dbdd8c21-dc35-45ad-bcae-ba60ec97a606",
   "metadata": {},
   "source": [
    "#### O método `executa`\n",
    "\n",
    "A função `executa` permite executar uma sequência de ações a partir de um determinado estado, devolvendo: o estado que resulta da aplicação da sequência de ações; o custo total dessas ações (cada movimento tem custo 1); a indicação se o objetivo foi ou não satisfeito. Note-se que, se o objetivo for atingido antes de aplicar todas as ações, o processo é interrompido e o método devolve a informação referente ao estado em que o objetivo é atingido.\n",
    "\n",
    "Há um modo verboso e não verboso, sendo este o modo por defeito. Se se colocar o modo verboso a True, após cada ação é apresentado o estado em modo txt, através do método `display`, juntamente com o custo total até ao momento e a indicação se o objetivo é atingido ou não. Serve para ajudar a testar o código.\n",
    "\n",
    "Note-se que uma solução para o problema do mundo representado acima, com custo 8, seria:\n",
    "```python\n",
    "['D', 'D', 'C', 'C', 'E', 'E', 'C', 'C']\n",
    "```\n",
    "Usando o método `executa` podemos testar a implementação do problema. Por exemplo, partindo do mundo inicial previamente definido, e aplicando a lista de ações acima, atinge-se o estado final \n",
    "```python\n",
    "p = MundoLagarta()\n",
    "seq = ['D', 'D', 'C', 'C', 'E', 'E', 'C', 'C']\n",
    "p.goal_test(p.executa(p.initial,seq)[0])\n",
    "```\n",
    "gera o seguinte output\n",
    "```python\n",
    "True\n",
    "```"
   ]
  },
  {
   "cell_type": "markdown",
   "id": "e7eb3b15-ed6b-4ce9-b48d-a6251690ae41",
   "metadata": {},
   "source": [
    "## Submissão\n",
    "\n",
    "#### Quizz\n",
    "\n",
    "Cada aluno deve completar a implementação da classe `MundoLagarta` e testá-la no link do quizz **Projeto 1** que está na página da disciplina, introduzindo aí o seu código. Pode-se submeter e avaliar o código várias vezes, sendo a submissão com melhor nota a que será considerada. Este projeto deve ser realizado **individualmente**.\n",
    "\n",
    "O quizz é constituído por uma única pergunta, a implementação da classe `MundoLagarta` e será avaliada através de um conjunto de testes automáticos visíveis e outros invisíveis, valendo um total de 2,15 valores da avaliação da Unidade Curricular.\n",
    "\n",
    "Os testes visíveis valem 6 em 20, enquanto que os testes invisíveis valem 14 em 20.\n",
    "\n",
    "#### Ficheiro Pyhton\n",
    "\n",
    "Simultaneamente, é necessário submeter o script Python que contém todo o código submetido no quizz. **Sem esta submissão o trabalho não poderá ser avaliado**, independentemente do resultado obtido no Moodle. Esse ficheiro deve chamar-se **MundoLagarta_IIA_25_26_alunoXXXXX.py**, em que substituem XXXXX pelo número do aluno.\n",
    "\n",
    "## **Bom trabalho!**\n",
    "<left> <img src=\"figures/lagarta_imagens_impossible.png\" width=\"600\" /> </center>\n",
    "\n",
    "(imagens meramente ilustrativas retiradas e/ou adaptadas de: https://arxiv.org/html/2508.16821v1)\n"
   ]
  }
 ],
 "metadata": {
  "kernelspec": {
   "display_name": "Python 3 (ipykernel)",
   "language": "python",
   "name": "python3"
  },
  "language_info": {
   "codemirror_mode": {
    "name": "ipython",
    "version": 3
   },
   "file_extension": ".py",
   "mimetype": "text/x-python",
   "name": "python",
   "nbconvert_exporter": "python",
   "pygments_lexer": "ipython3",
   "version": "3.12.3"
  }
 },
 "nbformat": 4,
 "nbformat_minor": 5
}
